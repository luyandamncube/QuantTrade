{
 "cells": [
  {
   "cell_type": "markdown",
   "id": "2ae87100",
   "metadata": {},
   "source": [
    "# MA/RSI Basics 📈\n",
    "Objective: Build a minimal, reusable template to compute and visualize basic trend (SMA/EMA) and momentum (RSI) indicators on ETF OHLCV data, using your existing daily_data / minute_data dictionaries.\n",
    "\n",
    "Inputs\n",
    "- Data sources (already available in your project):\n",
    "    - minute_data: Dict[str, pd.DataFrame] → same schema (optional in this notebook; used for a quick spot check)\n",
    "\n",
    "- Default symbol: \"SPY\" (changeable)\n",
    "- Indicator params:\n",
    "    - sma_windows = [20, 50]\n",
    "    - ema_windows = [20]\n",
    "    - rsi_period = 14\n",
    "    - rsi_bands = (30, 70)\n",
    "\n",
    "Outputs / Artifacts\n",
    "- Interactive Plotly figure:\n",
    "    - Row 1: Candlestick + SMA/EMA overlays.\n",
    "    - Row 2: RSI with 30/70 reference lines.\n",
    "    - `df_features`: DataFrame with appended indicator columns and (optional) signal column.\n"
   ]
  },
  {
   "cell_type": "markdown",
   "id": "ed9cfecd",
   "metadata": {},
   "source": [
    "## 1. Setup"
   ]
  },
  {
   "cell_type": "code",
   "execution_count": 17,
   "id": "4882e559",
   "metadata": {},
   "outputs": [],
   "source": [
    "import os,sys\n",
    "import duckdb\n",
    "from pathlib import Path\n",
    "import pandas as pd\n",
    "import json\n",
    "# import backtrader as bt"
   ]
  },
  {
   "cell_type": "code",
   "execution_count": 18,
   "id": "fb9836d7",
   "metadata": {},
   "outputs": [
    {
     "name": "stdout",
     "output_type": "stream",
     "text": [
      "Project Root: /Users/luyanda/workspace/QuantTrade\n"
     ]
    }
   ],
   "source": [
    "PROJECT_ROOT = Path.cwd().parents[0]\n",
    "\n",
    "if PROJECT_ROOT not in sys.path:\n",
    "    sys.path.append(PROJECT_ROOT)\n",
    "\n",
    "print(f\"Project Root: {PROJECT_ROOT}\")"
   ]
  },
  {
   "cell_type": "code",
   "execution_count": 19,
   "id": "2bb998c9",
   "metadata": {},
   "outputs": [],
   "source": [
    "from utils.charts import render_lightweight_chart\n",
    "from utils.duck import to_bt_daily_duckdb, to_bt_minute_duckdb\n",
    "from utils.features import add_mas_duckdb, add_rsi_duckdb, add_emas_duckdb"
   ]
  },
  {
   "cell_type": "code",
   "execution_count": 21,
   "id": "03225ed4",
   "metadata": {},
   "outputs": [
    {
     "name": "stdout",
     "output_type": "stream",
     "text": [
      "DB_MINUTE: /Users/luyanda/workspace/QuantTrade/data/processed/alpaca/price_minute_alpaca.duckdb\n",
      "📋 Tables: ['alpaca_minute']\n"
     ]
    }
   ],
   "source": [
    "DB_MINUTE = PROJECT_ROOT / \"data\" / \"processed\" / \"alpaca\" / \"price_minute_alpaca.duckdb\"\n",
    "print(f\"DB_MINUTE: {DB_MINUTE}\")\n",
    "con_minute = duckdb.connect(str(DB_MINUTE))\n",
    "tables = [t[0] for t in con_minute.execute(\"SHOW TABLES\").fetchall()]\n",
    "print(\"📋 Tables:\", tables)"
   ]
  },
  {
   "cell_type": "code",
   "execution_count": 22,
   "id": "0f9aae6b",
   "metadata": {},
   "outputs": [],
   "source": [
    "ETFS = [\"SPY\", \"QQQ\"]\n",
    "CHARTS_DIR = PROJECT_ROOT / \"charts\" \n",
    "IND_MA_WINDOWS = [20, 50, 200]\n",
    "IND_EMA_WINDOWS = [20]\n",
    "IND_RSI_PERIOD = 14\n",
    "IND_RSI_BOUNDS = (30,70)"
   ]
  },
  {
   "cell_type": "markdown",
   "id": "a03fa05c",
   "metadata": {},
   "source": [
    "## 2. Helpers"
   ]
  },
  {
   "cell_type": "markdown",
   "id": "5ba3b920",
   "metadata": {},
   "source": [
    "## 3. Data Ingestion"
   ]
  },
  {
   "cell_type": "code",
   "execution_count": 24,
   "id": "e5160857",
   "metadata": {},
   "outputs": [
    {
     "name": "stdout",
     "output_type": "stream",
     "text": [
      "                       open    high     low   close  volume  trade_count  \\\n",
      "datetime                                                                   \n",
      "2025-08-13 14:36:00  644.34  644.34  644.34  644.34   100.0          1.0   \n",
      "\n",
      "                       vwap  \n",
      "datetime                     \n",
      "2025-08-13 14:36:00  644.34  \n",
      "                       open    high     low   close  volume  trade_count  \\\n",
      "datetime                                                                   \n",
      "2025-08-13 14:55:00  582.45  582.45  582.45  582.45   340.0          2.0   \n",
      "\n",
      "                       vwap  \n",
      "datetime                     \n",
      "2025-08-13 14:55:00  582.45  \n"
     ]
    }
   ],
   "source": [
    "# --- Ingest latest minute-level data ---\n",
    "minute_data = {sym: to_bt_minute_duckdb(con_minute, \"alpaca_minute\", sym) for sym in ETFS}\n",
    "\n",
    "for symbol in ETFS:\n",
    "    print(minute_data[symbol].tail(1))"
   ]
  },
  {
   "cell_type": "markdown",
   "id": "b5ce7ac3",
   "metadata": {},
   "source": [
    "## 4. Data Quality Checks\n",
    "\n",
    "U.S. Market (SPY, QQQ)\n",
    "Assuming regular NYSE/Nasdaq trading hours:\n",
    "\n",
    "| **Session**     | **Hours (ET)**   | **Duration** |\n",
    "| --------------- | ---------------- | ------------ |\n",
    "| Regular session | 09:30 – 16:00 ET | 6.5 hours    |\n",
    "|                 |                  | 390 minutes  |\n",
    "\n",
    "Expect around 390 rows per ETF"
   ]
  },
  {
   "cell_type": "code",
   "execution_count": 25,
   "id": "8596e1bd",
   "metadata": {},
   "outputs": [
    {
     "name": "stdout",
     "output_type": "stream",
     "text": [
      "\n",
      "🔍 SPY\n",
      "  • Rows: 192320\n",
      "  • Date Range: 2023-08-09 → 2025-08-13\n",
      "  • Timezone-aware: False\n",
      "  • Missing Intraday Dates: 22\n",
      "  • Partial Intraday Days (<390 rows): 279\n",
      "\n",
      "🔍 QQQ\n",
      "  • Rows: 187087\n",
      "  • Date Range: 2023-08-09 → 2025-08-13\n",
      "  • Timezone-aware: False\n",
      "  • Missing Intraday Dates: 22\n",
      "  • Partial Intraday Days (<390 rows): 306\n"
     ]
    }
   ],
   "source": [
    "for symbol in ETFS:\n",
    "    df = minute_data[symbol]\n",
    "    print(f\"\\n🔍 {symbol}\")\n",
    "    print(f\"  • Rows: {len(df)}\")\n",
    "    print(f\"  • Date Range: {df.index.min().date()} → {df.index.max().date()}\")\n",
    "    print(f\"  • Timezone-aware: {df.index.tz is not None}\")\n",
    "    # print(f\"  • Missing 'close': {df['close'].isna().sum()}\")\n",
    "\n",
    "    # --- Drop timezone if needed ---\n",
    "    df = df.copy()\n",
    "    if df.index.tz is not None:\n",
    "        df.index = df.index.tz_localize(None)\n",
    "\n",
    "    # --- Identify all available intraday dates ---\n",
    "    df[\"date\"] = df.index.normalize()\n",
    "    available_dates = df[\"date\"].unique()\n",
    "\n",
    "    # --- Construct full expected range (business days) ---\n",
    "    expected_dates = pd.date_range(\n",
    "        start=df.index.min().normalize(),\n",
    "        end=df.index.max().normalize(),\n",
    "        freq='B'\n",
    "    )\n",
    "\n",
    "    # --- Missing trading days entirely ---\n",
    "    missing_dates = sorted(set(expected_dates) - set(available_dates))\n",
    "    print(f\"  • Missing Intraday Dates: {len(missing_dates)}\")\n",
    "    # if missing_dates:\n",
    "    #     print(\"    Example:\", missing_dates[:5])\n",
    "\n",
    "    # --- Check for partial trading days (fewer than 390 rows) ---\n",
    "    counts = df.groupby(\"date\").size()\n",
    "    partial_days = counts[counts < 390]\n",
    "    print(f\"  • Partial Intraday Days (<390 rows): {len(partial_days)}\")\n",
    "    # if not partial_days.empty:\n",
    "    #     print(\"    Example:\", partial_days.head())\n"
   ]
  },
  {
   "cell_type": "markdown",
   "id": "d46e6d30",
   "metadata": {},
   "source": [
    "## 5. Feature Engineering"
   ]
  },
  {
   "cell_type": "code",
   "execution_count": null,
   "id": "6eadc94b",
   "metadata": {},
   "outputs": [
    {
     "name": "stdout",
     "output_type": "stream",
     "text": [
      "                       open    high     low   close  volume  trade_count  \\\n",
      "datetime                                                                   \n",
      "2025-08-13 14:36:00  644.34  644.34  644.34  644.34   100.0          1.0   \n",
      "\n",
      "                       vwap       ema20  \n",
      "datetime                                 \n",
      "2025-08-13 14:36:00  644.34  642.720931  \n"
     ]
    }
   ],
   "source": [
    "df_0 = add_emas_duckdb(minute_data, con_minute, [20])"
   ]
  },
  {
   "cell_type": "code",
   "execution_count": null,
   "id": "e28719c4",
   "metadata": {},
   "outputs": [
    {
     "name": "stdout",
     "output_type": "stream",
     "text": [
      "                       open    high     low   close  volume  trade_count  \\\n",
      "datetime                                                                   \n",
      "2025-08-13 14:36:00  644.34  644.34  644.34  644.34   100.0          1.0   \n",
      "\n",
      "                       vwap       ema20     ma20      ma50       ma200  \n",
      "datetime                                                                \n",
      "2025-08-13 14:36:00  644.34  642.720931  642.645  642.4728  642.115025  \n"
     ]
    }
   ],
   "source": [
    "df_1 = add_mas_duckdb(df_0, con_minute, windows=[20, 50,200], price_col=\"close\")"
   ]
  },
  {
   "cell_type": "code",
   "execution_count": null,
   "id": "6529d04b",
   "metadata": {},
   "outputs": [
    {
     "name": "stdout",
     "output_type": "stream",
     "text": [
      "                       open    high     low   close  volume  trade_count  \\\n",
      "datetime                                                                   \n",
      "2025-08-13 14:36:00  644.34  644.34  644.34  644.34   100.0          1.0   \n",
      "\n",
      "                       vwap       ema20     ma20      ma50       ma200  \\\n",
      "datetime                                                                 \n",
      "2025-08-13 14:36:00  644.34  642.720931  642.645  642.4728  642.115025   \n",
      "\n",
      "                         rsi14  \n",
      "datetime                        \n",
      "2025-08-13 14:36:00  82.116788  \n"
     ]
    }
   ],
   "source": [
    "df_2 = add_rsi_duckdb(df_1, con_minute, period=14)"
   ]
  },
  {
   "cell_type": "code",
   "execution_count": 30,
   "id": "eb0e0611",
   "metadata": {},
   "outputs": [
    {
     "data": {
      "text/plain": [
       "PosixPath('/Users/luyanda/workspace/QuantTrade/charts/etf_basics_SPY.html')"
      ]
     },
     "execution_count": 30,
     "metadata": {},
     "output_type": "execute_result"
    }
   ],
   "source": [
    "render_lightweight_chart(\n",
    "    df_2[\"SPY\"],\n",
    "    symbol=\"SPY\",\n",
    "    out_html=CHARTS_DIR/\"etf_basics_SPY.html\",\n",
    "    theme=\"dark\",\n",
    "    ma_windows=IND_MA_WINDOWS,  \n",
    "    ema_windows=IND_EMA_WINDOWS,          \n",
    "    rsi_period=IND_RSI_PERIOD,             \n",
    "    rsi_bounds=IND_RSI_BOUNDS,\n",
    "    timeframes=[\"1d\", \"1h\", \"15m\"],\n",
    "    default_tf=\"1d\",\n",
    "    watermark_text=\"SPY — {tf}\",\n",
    ")"
   ]
  }
 ],
 "metadata": {
  "kernelspec": {
   "display_name": "Python 3 (ipykernel)",
   "language": "python",
   "name": "python3"
  },
  "language_info": {
   "codemirror_mode": {
    "name": "ipython",
    "version": 3
   },
   "file_extension": ".py",
   "mimetype": "text/x-python",
   "name": "python",
   "nbconvert_exporter": "python",
   "pygments_lexer": "ipython3",
   "version": "3.9.13"
  }
 },
 "nbformat": 4,
 "nbformat_minor": 5
}
