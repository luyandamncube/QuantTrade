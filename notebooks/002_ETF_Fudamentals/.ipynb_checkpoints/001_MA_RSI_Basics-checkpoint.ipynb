{
 "cells": [
  {
   "cell_type": "markdown",
   "id": "2ae87100",
   "metadata": {},
   "source": [
    "# MA/RSI Basics 📈\n",
    "Objective: Build a minimal, reusable template to compute and visualize basic trend (SMA/EMA) and momentum (RSI) indicators on ETF OHLCV data, using your existing daily_data / minute_data dictionaries."
   ]
  },
  {
   "cell_type": "markdown",
   "id": "ed9cfecd",
   "metadata": {},
   "source": [
    "## 1. Setup"
   ]
  },
  {
   "cell_type": "code",
   "execution_count": 1,
   "id": "4882e559",
   "metadata": {},
   "outputs": [
    {
     "ename": "ModuleNotFoundError",
     "evalue": "No module named 'duckdb'",
     "output_type": "error",
     "traceback": [
      "\u001b[0;31m---------------------------------------------------------------------------\u001b[0m",
      "\u001b[0;31mModuleNotFoundError\u001b[0m                       Traceback (most recent call last)",
      "Cell \u001b[0;32mIn [1], line 2\u001b[0m\n\u001b[1;32m      1\u001b[0m \u001b[38;5;28;01mimport\u001b[39;00m \u001b[38;5;21;01mos\u001b[39;00m\u001b[38;5;241m,\u001b[39m\u001b[38;5;21;01msys\u001b[39;00m\n\u001b[0;32m----> 2\u001b[0m \u001b[38;5;28;01mimport\u001b[39;00m \u001b[38;5;21;01mduckdb\u001b[39;00m\n\u001b[1;32m      3\u001b[0m \u001b[38;5;28;01mfrom\u001b[39;00m \u001b[38;5;21;01mpathlib\u001b[39;00m \u001b[38;5;28;01mimport\u001b[39;00m Path\n\u001b[1;32m      4\u001b[0m \u001b[38;5;28;01mimport\u001b[39;00m \u001b[38;5;21;01mpandas\u001b[39;00m \u001b[38;5;28;01mas\u001b[39;00m \u001b[38;5;21;01mpd\u001b[39;00m\n",
      "\u001b[0;31mModuleNotFoundError\u001b[0m: No module named 'duckdb'"
     ]
    }
   ],
   "source": [
    "import os,sys\n",
    "import duckdb\n",
    "from pathlib import Path\n",
    "import pandas as pd\n",
    "import json\n",
    "import backtrader as bt"
   ]
  },
  {
   "cell_type": "code",
   "execution_count": null,
   "id": "fb9836d7",
   "metadata": {},
   "outputs": [],
   "source": [
    "PROJECT_ROOT = Path.cwd().parents[0]\n",
    "\n",
    "if PROJECT_ROOT not in sys.path:\n",
    "    sys.path.append(PROJECT_ROOT)\n",
    "\n",
    "print(f\"Project Root: {PROJECT_ROOT}\")"
   ]
  },
  {
   "cell_type": "code",
   "execution_count": null,
   "id": "2bb998c9",
   "metadata": {},
   "outputs": [],
   "source": [
    "from utils.charts import render_lightweight_chart\n",
    "from utils.duck import to_bt_daily_duckdb, to_bt_minute_duckdb\n",
    "from utils.features import add_mas_duckdb, add_rsi_duckdb, add_emas_duckdb"
   ]
  },
  {
   "cell_type": "code",
   "execution_count": null,
   "id": "d532e846",
   "metadata": {},
   "outputs": [],
   "source": [
    "DB_DAILY = PROJECT_ROOT / \"data\" / \"processed\" / \"dolt\" / \"stocks.duckdb\"\n",
    "print(f\"DB_DAILY: {DB_DAILY}\")\n",
    "con_daily = duckdb.connect(str(DB_DAILY))\n",
    "tables = [t[0] for t in con_daily.execute(\"SHOW TABLES\").fetchall()]\n",
    "print(\"📋 Tables:\", tables)"
   ]
  },
  {
   "cell_type": "code",
   "execution_count": null,
   "id": "03225ed4",
   "metadata": {},
   "outputs": [],
   "source": [
    "DB_MINUTE = PROJECT_ROOT / \"data\" / \"processed\" / \"alpaca\" / \"price_minute_alpaca.duckdb\"\n",
    "print(f\"DB_MINUTE: {DB_MINUTE}\")\n",
    "con_minute = duckdb.connect(str(DB_MINUTE))\n",
    "tables = [t[0] for t in con_minute.execute(\"SHOW TABLES\").fetchall()]\n",
    "print(\"📋 Tables:\", tables)"
   ]
  },
  {
   "cell_type": "code",
   "execution_count": null,
   "id": "0f9aae6b",
   "metadata": {},
   "outputs": [],
   "source": [
    "ETFS = [\"SPY\", \"QQQ\"]\n",
    "CHARTS_DIR = PROJECT_ROOT / \"charts\" "
   ]
  },
  {
   "cell_type": "markdown",
   "id": "a03fa05c",
   "metadata": {},
   "source": [
    "## 2. Helpers"
   ]
  },
  {
   "cell_type": "markdown",
   "id": "5ba3b920",
   "metadata": {},
   "source": [
    "## 3. Data Ingestion"
   ]
  },
  {
   "cell_type": "code",
   "execution_count": null,
   "id": "07a45ad1",
   "metadata": {},
   "outputs": [],
   "source": [
    "# --- Ingest latest daily data ---\n",
    "daily_data = {\n",
    "    sym: to_bt_daily_duckdb(con_daily, sym, table=\"ohlcv\", date_col=\"date\", symbol_col=\"act_symbol\")\n",
    "    for sym in ETFS\n",
    "}\n",
    "\n",
    "for symbol in ETFS:\n",
    "    print(daily_data[symbol].tail(1))\n"
   ]
  },
  {
   "cell_type": "code",
   "execution_count": null,
   "id": "e5160857",
   "metadata": {},
   "outputs": [],
   "source": [
    "# --- Ingest latest minute-level data ---\n",
    "minute_data = {sym: to_bt_minute_duckdb(con_minute, \"alpaca_minute\", sym) for sym in ETFS}\n",
    "\n",
    "for symbol in ETFS:\n",
    "    print(minute_data[symbol].tail(1))"
   ]
  },
  {
   "cell_type": "markdown",
   "id": "b5ce7ac3",
   "metadata": {},
   "source": [
    "## 4. Data Quality Checks\n",
    "\n",
    "U.S. Market (SPY, QQQ)\n",
    "Assuming regular NYSE/Nasdaq trading hours:\n",
    "\n",
    "| **Session**     | **Hours (ET)**   | **Duration** |\n",
    "| --------------- | ---------------- | ------------ |\n",
    "| Regular session | 09:30 – 16:00 ET | 6.5 hours    |\n",
    "|                 |                  | 390 minutes  |\n",
    "\n",
    "Expect around 390 rows per ETF"
   ]
  },
  {
   "cell_type": "code",
   "execution_count": null,
   "id": "8596e1bd",
   "metadata": {},
   "outputs": [],
   "source": [
    "for symbol in ETFS:\n",
    "    df = minute_data[symbol]\n",
    "    print(f\"\\n🔍 {symbol}\")\n",
    "    print(f\"  • Rows: {len(df)}\")\n",
    "    print(f\"  • Date Range: {df.index.min().date()} → {df.index.max().date()}\")\n",
    "    print(f\"  • Timezone-aware: {df.index.tz is not None}\")\n",
    "    # print(f\"  • Missing 'close': {df['close'].isna().sum()}\")\n",
    "\n",
    "    # --- Drop timezone if needed ---\n",
    "    df = df.copy()\n",
    "    if df.index.tz is not None:\n",
    "        df.index = df.index.tz_localize(None)\n",
    "\n",
    "    # --- Identify all available intraday dates ---\n",
    "    df[\"date\"] = df.index.normalize()\n",
    "    available_dates = df[\"date\"].unique()\n",
    "\n",
    "    # --- Construct full expected range (business days) ---\n",
    "    expected_dates = pd.date_range(\n",
    "        start=df.index.min().normalize(),\n",
    "        end=df.index.max().normalize(),\n",
    "        freq='B'\n",
    "    )\n",
    "\n",
    "    # --- Missing trading days entirely ---\n",
    "    missing_dates = sorted(set(expected_dates) - set(available_dates))\n",
    "    print(f\"  • Missing Intraday Dates: {len(missing_dates)}\")\n",
    "    # if missing_dates:\n",
    "    #     print(\"    Example:\", missing_dates[:5])\n",
    "\n",
    "    # --- Check for partial trading days (fewer than 390 rows) ---\n",
    "    counts = df.groupby(\"date\").size()\n",
    "    partial_days = counts[counts < 390]\n",
    "    print(f\"  • Partial Intraday Days (<390 rows): {len(partial_days)}\")\n",
    "    # if not partial_days.empty:\n",
    "    #     print(\"    Example:\", partial_days.head())\n"
   ]
  },
  {
   "cell_type": "markdown",
   "id": "d46e6d30",
   "metadata": {},
   "source": [
    "## 5. Feature Engineering"
   ]
  },
  {
   "cell_type": "code",
   "execution_count": null,
   "id": "e28719c4",
   "metadata": {},
   "outputs": [],
   "source": [
    "minute_data_ma = add_mas_duckdb(minute_data, con_minute, windows=[20, 50,200], price_col=\"close\")"
   ]
  },
  {
   "cell_type": "code",
   "execution_count": null,
   "id": "6529d04b",
   "metadata": {},
   "outputs": [],
   "source": [
    "minute_data_rsi = add_rsi_duckdb(minute_data, con_minute, period=14)"
   ]
  },
  {
   "cell_type": "code",
   "execution_count": null,
   "id": "6f30b06a",
   "metadata": {},
   "outputs": [],
   "source": [
    "class PandasDataWithMAs(bt.feeds.PandasData):\n",
    "    # add new indicator lines available as data.ma20, data.ma50\n",
    "    lines = ('ma20', 'ma50',)\n",
    "    # map by column name (expects columns 'ma20' and 'ma50' to exist in df)\n",
    "    params = (\n",
    "        ('ma20', -1),   # -1 tells Backtrader to pick the column with the same name\n",
    "        ('ma50', -1),\n",
    "    )\n",
    "\n",
    "# Use it like:\n",
    "df = minute_data_ma[\"SPY\"]  # already has ma20, ma50 from your DuckDB helper\n",
    "datafeed = PandasDataWithMAs(dataname=df[['open','high','low','close','volume','ma20','ma50']])\n",
    "cerebro = bt.Cerebro()\n",
    "cerebro.adddata(datafeed)\n",
    "\n",
    "class UsePrecomputed(bt.Strategy):\n",
    "    def __init__(self):\n",
    "        # now you can access self.data.ma20[0], self.data.ma50[0] in signals\n",
    "        pass"
   ]
  }
 ],
 "metadata": {
  "kernelspec": {
   "display_name": "Python 3 (ipykernel)",
   "language": "python",
   "name": "python3"
  },
  "language_info": {
   "codemirror_mode": {
    "name": "ipython",
    "version": 3
   },
   "file_extension": ".py",
   "mimetype": "text/x-python",
   "name": "python",
   "nbconvert_exporter": "python",
   "pygments_lexer": "ipython3",
   "version": "3.9.13"
  }
 },
 "nbformat": 4,
 "nbformat_minor": 5
}
