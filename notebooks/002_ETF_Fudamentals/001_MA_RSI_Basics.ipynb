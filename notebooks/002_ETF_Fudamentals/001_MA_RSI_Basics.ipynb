{
 "cells": [
  {
   "cell_type": "markdown",
   "id": "2ae87100",
   "metadata": {},
   "source": [
    "# MA/RSI Basics 📈\n",
    "Objective: Build a minimal, reusable template to compute and visualize basic trend (SMA/EMA) and momentum (RSI) indicators on ETF OHLCV data, using your existing daily_data / minute_data dictionaries."
   ]
  },
  {
   "cell_type": "markdown",
   "id": "ed9cfecd",
   "metadata": {},
   "source": [
    "## 1. Setup"
   ]
  },
  {
   "cell_type": "code",
   "execution_count": 28,
   "id": "4882e559",
   "metadata": {},
   "outputs": [],
   "source": [
    "import os,sys\n",
    "import duckdb\n",
    "from pathlib import Path\n",
    "import pandas as pd\n",
    "import json\n",
    "# import backtrader as bt"
   ]
  },
  {
   "cell_type": "code",
   "execution_count": 29,
   "id": "fb9836d7",
   "metadata": {},
   "outputs": [
    {
     "name": "stdout",
     "output_type": "stream",
     "text": [
      "Project Root: /Users/luyanda/workspace/QuantTrade\n"
     ]
    }
   ],
   "source": [
    "PROJECT_ROOT = Path.cwd().parents[0]\n",
    "\n",
    "if PROJECT_ROOT not in sys.path:\n",
    "    sys.path.append(PROJECT_ROOT)\n",
    "\n",
    "print(f\"Project Root: {PROJECT_ROOT}\")"
   ]
  },
  {
   "cell_type": "code",
   "execution_count": 30,
   "id": "2bb998c9",
   "metadata": {},
   "outputs": [],
   "source": [
    "from utils.charts import render_lightweight_chart\n",
    "from utils.duck import to_bt_daily_duckdb, to_bt_minute_duckdb\n",
    "from utils.features import add_mas_duckdb, add_rsi_duckdb, add_emas_duckdb"
   ]
  },
  {
   "cell_type": "code",
   "execution_count": 31,
   "id": "d532e846",
   "metadata": {},
   "outputs": [],
   "source": [
    "# DB_DAILY = PROJECT_ROOT / \"data\" / \"processed\" / \"dolt\" / \"stocks.duckdb\"\n",
    "# print(f\"DB_DAILY: {DB_DAILY}\")\n",
    "# con_daily = duckdb.connect(str(DB_DAILY))\n",
    "# tables = [t[0] for t in con_daily.execute(\"SHOW TABLES\").fetchall()]\n",
    "# print(\"📋 Tables:\", tables)"
   ]
  },
  {
   "cell_type": "code",
   "execution_count": 32,
   "id": "03225ed4",
   "metadata": {},
   "outputs": [
    {
     "name": "stdout",
     "output_type": "stream",
     "text": [
      "DB_MINUTE: /Users/luyanda/workspace/QuantTrade/data/processed/alpaca/price_minute_alpaca.duckdb\n",
      "📋 Tables: ['alpaca_minute']\n"
     ]
    }
   ],
   "source": [
    "DB_MINUTE = PROJECT_ROOT / \"data\" / \"processed\" / \"alpaca\" / \"price_minute_alpaca.duckdb\"\n",
    "print(f\"DB_MINUTE: {DB_MINUTE}\")\n",
    "con_minute = duckdb.connect(str(DB_MINUTE))\n",
    "tables = [t[0] for t in con_minute.execute(\"SHOW TABLES\").fetchall()]\n",
    "print(\"📋 Tables:\", tables)"
   ]
  },
  {
   "cell_type": "code",
   "execution_count": 33,
   "id": "0f9aae6b",
   "metadata": {},
   "outputs": [],
   "source": [
    "ETFS = [\"SPY\", \"QQQ\"]\n",
    "CHARTS_DIR = PROJECT_ROOT / \"charts\" \n",
    "IND_MA_WINDOWS = [20, 50, 200]\n",
    "IND_EMA_WINDOWS = [20]\n",
    "IND_RSI_PERIOD = 14\n",
    "IND_RSI_BOUNDS = (30,70)"
   ]
  },
  {
   "cell_type": "markdown",
   "id": "a03fa05c",
   "metadata": {},
   "source": [
    "## 2. Helpers"
   ]
  },
  {
   "cell_type": "markdown",
   "id": "5ba3b920",
   "metadata": {},
   "source": [
    "## 3. Data Ingestion"
   ]
  },
  {
   "cell_type": "code",
   "execution_count": 34,
   "id": "07a45ad1",
   "metadata": {},
   "outputs": [],
   "source": [
    "# --- Ingest latest daily data ---\n",
    "# daily_data = {\n",
    "#     sym: to_bt_daily_duckdb(con_daily, sym, table=\"ohlcv\", date_col=\"date\", symbol_col=\"act_symbol\")\n",
    "#     for sym in ETFS\n",
    "# }\n",
    "\n",
    "# for symbol in ETFS:\n",
    "#     print(daily_data[symbol].tail(1))\n"
   ]
  },
  {
   "cell_type": "code",
   "execution_count": 35,
   "id": "e5160857",
   "metadata": {},
   "outputs": [
    {
     "name": "stdout",
     "output_type": "stream",
     "text": [
      "                       open    high     low   close  volume  trade_count  \\\n",
      "datetime                                                                   \n",
      "2025-08-13 14:36:00  644.34  644.34  644.34  644.34   100.0          1.0   \n",
      "\n",
      "                       vwap  \n",
      "datetime                     \n",
      "2025-08-13 14:36:00  644.34  \n",
      "                       open    high     low   close  volume  trade_count  \\\n",
      "datetime                                                                   \n",
      "2025-08-13 14:55:00  582.45  582.45  582.45  582.45   340.0          2.0   \n",
      "\n",
      "                       vwap  \n",
      "datetime                     \n",
      "2025-08-13 14:55:00  582.45  \n"
     ]
    }
   ],
   "source": [
    "# --- Ingest latest minute-level data ---\n",
    "minute_data = {sym: to_bt_minute_duckdb(con_minute, \"alpaca_minute\", sym) for sym in ETFS}\n",
    "\n",
    "for symbol in ETFS:\n",
    "    print(minute_data[symbol].tail(1))"
   ]
  },
  {
   "cell_type": "markdown",
   "id": "b5ce7ac3",
   "metadata": {},
   "source": [
    "## 4. Data Quality Checks\n",
    "\n",
    "U.S. Market (SPY, QQQ)\n",
    "Assuming regular NYSE/Nasdaq trading hours:\n",
    "\n",
    "| **Session**     | **Hours (ET)**   | **Duration** |\n",
    "| --------------- | ---------------- | ------------ |\n",
    "| Regular session | 09:30 – 16:00 ET | 6.5 hours    |\n",
    "|                 |                  | 390 minutes  |\n",
    "\n",
    "Expect around 390 rows per ETF"
   ]
  },
  {
   "cell_type": "code",
   "execution_count": 36,
   "id": "8596e1bd",
   "metadata": {},
   "outputs": [
    {
     "name": "stdout",
     "output_type": "stream",
     "text": [
      "\n",
      "🔍 SPY\n",
      "  • Rows: 192320\n",
      "  • Date Range: 2023-08-09 → 2025-08-13\n",
      "  • Timezone-aware: False\n",
      "  • Missing Intraday Dates: 22\n",
      "  • Partial Intraday Days (<390 rows): 279\n",
      "\n",
      "🔍 QQQ\n",
      "  • Rows: 187087\n",
      "  • Date Range: 2023-08-09 → 2025-08-13\n",
      "  • Timezone-aware: False\n",
      "  • Missing Intraday Dates: 22\n",
      "  • Partial Intraday Days (<390 rows): 306\n"
     ]
    }
   ],
   "source": [
    "for symbol in ETFS:\n",
    "    df = minute_data[symbol]\n",
    "    print(f\"\\n🔍 {symbol}\")\n",
    "    print(f\"  • Rows: {len(df)}\")\n",
    "    print(f\"  • Date Range: {df.index.min().date()} → {df.index.max().date()}\")\n",
    "    print(f\"  • Timezone-aware: {df.index.tz is not None}\")\n",
    "    # print(f\"  • Missing 'close': {df['close'].isna().sum()}\")\n",
    "\n",
    "    # --- Drop timezone if needed ---\n",
    "    df = df.copy()\n",
    "    if df.index.tz is not None:\n",
    "        df.index = df.index.tz_localize(None)\n",
    "\n",
    "    # --- Identify all available intraday dates ---\n",
    "    df[\"date\"] = df.index.normalize()\n",
    "    available_dates = df[\"date\"].unique()\n",
    "\n",
    "    # --- Construct full expected range (business days) ---\n",
    "    expected_dates = pd.date_range(\n",
    "        start=df.index.min().normalize(),\n",
    "        end=df.index.max().normalize(),\n",
    "        freq='B'\n",
    "    )\n",
    "\n",
    "    # --- Missing trading days entirely ---\n",
    "    missing_dates = sorted(set(expected_dates) - set(available_dates))\n",
    "    print(f\"  • Missing Intraday Dates: {len(missing_dates)}\")\n",
    "    # if missing_dates:\n",
    "    #     print(\"    Example:\", missing_dates[:5])\n",
    "\n",
    "    # --- Check for partial trading days (fewer than 390 rows) ---\n",
    "    counts = df.groupby(\"date\").size()\n",
    "    partial_days = counts[counts < 390]\n",
    "    print(f\"  • Partial Intraday Days (<390 rows): {len(partial_days)}\")\n",
    "    # if not partial_days.empty:\n",
    "    #     print(\"    Example:\", partial_days.head())\n"
   ]
  },
  {
   "cell_type": "markdown",
   "id": "d46e6d30",
   "metadata": {},
   "source": [
    "## 5. Feature Engineering"
   ]
  },
  {
   "cell_type": "code",
   "execution_count": 37,
   "id": "6eadc94b",
   "metadata": {},
   "outputs": [
    {
     "name": "stdout",
     "output_type": "stream",
     "text": [
      "                       open    high     low   close  volume  trade_count  \\\n",
      "datetime                                                                   \n",
      "2025-08-13 14:36:00  644.34  644.34  644.34  644.34   100.0          1.0   \n",
      "\n",
      "                       vwap       ema20  \n",
      "datetime                                 \n",
      "2025-08-13 14:36:00  644.34  642.720931  \n"
     ]
    }
   ],
   "source": [
    "minute_data_ema = add_emas_duckdb(minute_data, con_minute, [20])\n",
    "print(minute_data_ema[\"SPY\"].tail(1))"
   ]
  },
  {
   "cell_type": "code",
   "execution_count": 38,
   "id": "e28719c4",
   "metadata": {},
   "outputs": [
    {
     "name": "stdout",
     "output_type": "stream",
     "text": [
      "                       open    high     low   close  volume  trade_count  \\\n",
      "datetime                                                                   \n",
      "2025-08-13 14:36:00  644.34  644.34  644.34  644.34   100.0          1.0   \n",
      "\n",
      "                       vwap       ema20     ma20      ma50       ma200  \n",
      "datetime                                                                \n",
      "2025-08-13 14:36:00  644.34  642.720931  642.645  642.4728  642.115025  \n"
     ]
    }
   ],
   "source": [
    "df_1 = add_mas_duckdb(minute_data_ema, con_minute, windows=[20, 50,200], price_col=\"close\")\n",
    "print(df_1[\"SPY\"].tail(1))"
   ]
  },
  {
   "cell_type": "code",
   "execution_count": 39,
   "id": "434288c1",
   "metadata": {},
   "outputs": [
    {
     "name": "stdout",
     "output_type": "stream",
     "text": [
      "{'QQQ':                        open    high     low   close  volume  trade_count  \\\n",
      "datetime                                                                   \n",
      "2023-08-09 14:27:00  372.80  372.80  372.80  372.80   220.0          2.0   \n",
      "2023-08-09 14:29:00  372.64  372.64  372.64  372.64   200.0          1.0   \n",
      "2023-08-09 14:37:00  373.07  373.07  373.07  373.07   100.0          1.0   \n",
      "2023-08-09 14:45:00  372.54  372.54  372.54  372.54   124.0          2.0   \n",
      "2023-08-09 14:52:00  372.62  372.62  372.62  372.62   466.0          2.0   \n",
      "...                     ...     ...     ...     ...     ...          ...   \n",
      "2025-08-13 14:31:00  581.85  581.85  581.85  581.85   391.0          3.0   \n",
      "2025-08-13 14:34:00  582.03  582.03  582.03  582.03   360.0          2.0   \n",
      "2025-08-13 14:40:00  582.14  582.14  582.14  582.14   100.0          1.0   \n",
      "2025-08-13 14:45:00  582.21  582.21  582.21  582.21   220.0          3.0   \n",
      "2025-08-13 14:55:00  582.45  582.45  582.45  582.45   340.0          2.0   \n",
      "\n",
      "                       vwap       ema20        ma20        ma50       ma200  \\\n",
      "datetime                                                                      \n",
      "2023-08-09 14:27:00  372.80  372.800000  372.800000  372.800000  372.800000   \n",
      "2023-08-09 14:29:00  372.64  372.784762  372.720000  372.720000  372.720000   \n",
      "2023-08-09 14:37:00  373.07  372.811927  372.836667  372.836667  372.836667   \n",
      "2023-08-09 14:45:00  372.54  372.786030  372.762500  372.762500  372.762500   \n",
      "2023-08-09 14:52:00  372.62  372.770217  372.734000  372.734000  372.734000   \n",
      "...                     ...         ...         ...         ...         ...   \n",
      "2025-08-13 14:31:00  581.85  580.257021  580.184250  579.971000  579.527575   \n",
      "2025-08-13 14:34:00  582.03  580.425876  580.276250  580.018800  579.542275   \n",
      "2025-08-13 14:40:00  582.14  580.589126  580.376750  580.069600  579.557675   \n",
      "2025-08-13 14:45:00  582.21  580.743495  580.475250  580.121900  579.573525   \n",
      "2025-08-13 14:55:00  582.45  580.906019  580.589500  580.177000  579.589975   \n",
      "\n",
      "                          rsi14  \n",
      "datetime                         \n",
      "2023-08-09 14:27:00         NaN  \n",
      "2023-08-09 14:29:00         NaN  \n",
      "2023-08-09 14:37:00         NaN  \n",
      "2023-08-09 14:45:00         NaN  \n",
      "2023-08-09 14:52:00         NaN  \n",
      "...                         ...  \n",
      "2025-08-13 14:31:00   90.000000  \n",
      "2025-08-13 14:34:00   94.736842  \n",
      "2025-08-13 14:40:00   94.936709  \n",
      "2025-08-13 14:45:00   98.723404  \n",
      "2025-08-13 14:55:00  100.000000  \n",
      "\n",
      "[187087 rows x 12 columns], 'SPY':                         open     high      low    close  volume  trade_count  \\\n",
      "datetime                                                                       \n",
      "2023-08-09 15:30:00  449.030  449.160  448.790  448.800  4629.0         41.0   \n",
      "2023-08-09 15:31:00  448.845  448.930  448.760  448.770  2622.0         21.0   \n",
      "2023-08-09 15:32:00  448.810  448.840  448.650  448.660  1245.0         18.0   \n",
      "2023-08-09 15:33:00  448.625  448.855  448.610  448.855  1546.0         19.0   \n",
      "2023-08-09 15:34:00  448.985  449.080  448.955  448.955  2974.0         24.0   \n",
      "...                      ...      ...      ...      ...     ...          ...   \n",
      "2025-08-12 22:02:00  642.560  642.590  642.560  642.590  3000.0          2.0   \n",
      "2025-08-12 22:04:00  642.520  642.520  642.520  642.520   248.0          5.0   \n",
      "2025-08-12 22:14:00  642.670  642.670  642.670  642.670   100.0          1.0   \n",
      "2025-08-12 22:44:00  642.580  642.580  642.580  642.580   174.0          3.0   \n",
      "2025-08-13 14:36:00  644.340  644.340  644.340  644.340   100.0          1.0   \n",
      "\n",
      "                           vwap       ema20        ma20        ma50  \\\n",
      "datetime                                                              \n",
      "2023-08-09 15:30:00  448.926340  448.800000  448.800000  448.800000   \n",
      "2023-08-09 15:31:00  448.821731  448.797143  448.785000  448.785000   \n",
      "2023-08-09 15:32:00  448.734091  448.784082  448.743333  448.743333   \n",
      "2023-08-09 15:33:00  448.708000  448.790836  448.771250  448.771250   \n",
      "2023-08-09 15:34:00  448.988621  448.806470  448.808000  448.808000   \n",
      "...                         ...         ...         ...         ...   \n",
      "2025-08-12 22:02:00  642.575000  642.536017  642.477000  642.407600   \n",
      "2025-08-12 22:04:00  642.520000  642.534492  642.495250  642.414000   \n",
      "2025-08-12 22:14:00  642.670000  642.547397  642.519250  642.424000   \n",
      "2025-08-12 22:44:00  642.580000  642.550502  642.537500  642.430000   \n",
      "2025-08-13 14:36:00  644.340000  642.720931  642.645000  642.472800   \n",
      "\n",
      "                          ma200      rsi14  \n",
      "datetime                                    \n",
      "2023-08-09 15:30:00  448.800000        NaN  \n",
      "2023-08-09 15:31:00  448.785000        NaN  \n",
      "2023-08-09 15:32:00  448.743333        NaN  \n",
      "2023-08-09 15:33:00  448.771250        NaN  \n",
      "2023-08-09 15:34:00  448.808000        NaN  \n",
      "...                         ...        ...  \n",
      "2025-08-12 22:02:00  642.084725  64.885496  \n",
      "2025-08-12 22:04:00  642.089975  57.600000  \n",
      "2025-08-12 22:14:00  642.095700  54.310345  \n",
      "2025-08-12 22:44:00  642.101175  44.144144  \n",
      "2025-08-13 14:36:00  642.115025  82.116788  \n",
      "\n",
      "[192320 rows x 12 columns]}\n"
     ]
    }
   ],
   "source": [
    "print(df_2)"
   ]
  },
  {
   "cell_type": "code",
   "execution_count": 40,
   "id": "6529d04b",
   "metadata": {},
   "outputs": [
    {
     "name": "stdout",
     "output_type": "stream",
     "text": [
      "                       open    high     low   close  volume  trade_count  \\\n",
      "datetime                                                                   \n",
      "2025-08-13 14:36:00  644.34  644.34  644.34  644.34   100.0          1.0   \n",
      "\n",
      "                       vwap       ema20     ma20      ma50       ma200  \\\n",
      "datetime                                                                 \n",
      "2025-08-13 14:36:00  644.34  642.720931  642.645  642.4728  642.115025   \n",
      "\n",
      "                         rsi14  \n",
      "datetime                        \n",
      "2025-08-13 14:36:00  82.116788  \n"
     ]
    }
   ],
   "source": [
    "df_2 = add_rsi_duckdb(df_1, con_minute, period=14)\n",
    "print(df_2[\"SPY\"].tail(1))"
   ]
  },
  {
   "cell_type": "code",
   "execution_count": 41,
   "id": "2030d9da",
   "metadata": {},
   "outputs": [],
   "source": [
    "# render_lightweight_chart(\n",
    "#     df_2[\"SPY\"],\n",
    "#     symbol=\"SPY\",\n",
    "#     out_html=CHARTS_DIR/\"spy_ma_ema_rsi.html\",\n",
    "#     ma_windows=IND_MA_WINDOWS,\n",
    "#     rsi_period=IND_RSI_PERIOD,            \n",
    "#     rsi_bounds=None,\n",
    "#     timeframes=[\"1m\",\"5m\",\"15m\",\"1h\",\"1d\"],\n",
    "#     default_tf=\"5m\",\n",
    "#     watermark_text=\"SPY — {tf}\",\n",
    "#     watermark_opacity=0.07,\n",
    "# )\n",
    "\n",
    "# IND_MA_WINDOWS = [20, 50, 200]\n",
    "# IND_EMA_WINDOWS = [20]\n",
    "# IND_RSI_PERIOD = 14"
   ]
  },
  {
   "cell_type": "code",
   "execution_count": 45,
   "id": "eb0e0611",
   "metadata": {},
   "outputs": [
    {
     "ename": "TypeError",
     "evalue": "render_lightweight_chart() got an unexpected keyword argument 'ema_windows'",
     "output_type": "error",
     "traceback": [
      "\u001b[0;31m---------------------------------------------------------------------------\u001b[0m",
      "\u001b[0;31mTypeError\u001b[0m                                 Traceback (most recent call last)",
      "Cell \u001b[0;32mIn [45], line 1\u001b[0m\n\u001b[0;32m----> 1\u001b[0m \u001b[43mrender_lightweight_chart\u001b[49m\u001b[43m(\u001b[49m\n\u001b[1;32m      2\u001b[0m \u001b[43m    \u001b[49m\u001b[43mdf_2\u001b[49m\u001b[43m[\u001b[49m\u001b[38;5;124;43m\"\u001b[39;49m\u001b[38;5;124;43mSPY\u001b[39;49m\u001b[38;5;124;43m\"\u001b[39;49m\u001b[43m]\u001b[49m\u001b[43m,\u001b[49m\n\u001b[1;32m      3\u001b[0m \u001b[43m    \u001b[49m\u001b[43msymbol\u001b[49m\u001b[38;5;241;43m=\u001b[39;49m\u001b[38;5;124;43m\"\u001b[39;49m\u001b[38;5;124;43mSPY\u001b[39;49m\u001b[38;5;124;43m\"\u001b[39;49m\u001b[43m,\u001b[49m\n\u001b[1;32m      4\u001b[0m \u001b[43m    \u001b[49m\u001b[43mout_html\u001b[49m\u001b[38;5;241;43m=\u001b[39;49m\u001b[43mCHARTS_DIR\u001b[49m\u001b[38;5;241;43m/\u001b[39;49m\u001b[38;5;124;43m\"\u001b[39;49m\u001b[38;5;124;43metf_basics_SPY.html\u001b[39;49m\u001b[38;5;124;43m\"\u001b[39;49m\u001b[43m,\u001b[49m\n\u001b[1;32m      5\u001b[0m \u001b[43m    \u001b[49m\u001b[43mtheme\u001b[49m\u001b[38;5;241;43m=\u001b[39;49m\u001b[38;5;124;43m\"\u001b[39;49m\u001b[38;5;124;43mdark\u001b[39;49m\u001b[38;5;124;43m\"\u001b[39;49m\u001b[43m,\u001b[49m\n\u001b[1;32m      6\u001b[0m \u001b[43m    \u001b[49m\u001b[43mma_windows\u001b[49m\u001b[38;5;241;43m=\u001b[39;49m\u001b[43mIND_MA_WINDOWS\u001b[49m\u001b[43m,\u001b[49m\u001b[43m  \u001b[49m\n\u001b[1;32m      7\u001b[0m \u001b[43m    \u001b[49m\u001b[43mema_windows\u001b[49m\u001b[38;5;241;43m=\u001b[39;49m\u001b[43mIND_EMA_WINDOWS\u001b[49m\u001b[43m,\u001b[49m\u001b[43m          \u001b[49m\n\u001b[1;32m      8\u001b[0m \u001b[43m    \u001b[49m\u001b[43mrsi_period\u001b[49m\u001b[38;5;241;43m=\u001b[39;49m\u001b[43mIND_RSI_PERIOD\u001b[49m\u001b[43m,\u001b[49m\u001b[43m             \u001b[49m\n\u001b[1;32m      9\u001b[0m \u001b[43m    \u001b[49m\u001b[43mrsi_bounds\u001b[49m\u001b[38;5;241;43m=\u001b[39;49m\u001b[43mIND_RSI_BOUNDS\u001b[49m\u001b[43m,\u001b[49m\n\u001b[1;32m     10\u001b[0m \u001b[43m    \u001b[49m\u001b[43mtimeframes\u001b[49m\u001b[38;5;241;43m=\u001b[39;49m\u001b[43m[\u001b[49m\u001b[38;5;124;43m\"\u001b[39;49m\u001b[38;5;124;43m1d\u001b[39;49m\u001b[38;5;124;43m\"\u001b[39;49m\u001b[43m,\u001b[49m\u001b[43m \u001b[49m\u001b[38;5;124;43m\"\u001b[39;49m\u001b[38;5;124;43m1h\u001b[39;49m\u001b[38;5;124;43m\"\u001b[39;49m\u001b[43m,\u001b[49m\u001b[43m \u001b[49m\u001b[38;5;124;43m\"\u001b[39;49m\u001b[38;5;124;43m15m\u001b[39;49m\u001b[38;5;124;43m\"\u001b[39;49m\u001b[43m]\u001b[49m\u001b[43m,\u001b[49m\n\u001b[1;32m     11\u001b[0m \u001b[43m    \u001b[49m\u001b[43mdefault_tf\u001b[49m\u001b[38;5;241;43m=\u001b[39;49m\u001b[38;5;124;43m\"\u001b[39;49m\u001b[38;5;124;43m1d\u001b[39;49m\u001b[38;5;124;43m\"\u001b[39;49m\u001b[43m,\u001b[49m\n\u001b[1;32m     12\u001b[0m \u001b[43m    \u001b[49m\u001b[43mwatermark_text\u001b[49m\u001b[38;5;241;43m=\u001b[39;49m\u001b[38;5;124;43m\"\u001b[39;49m\u001b[38;5;124;43mSPY — \u001b[39;49m\u001b[38;5;132;43;01m{tf}\u001b[39;49;00m\u001b[38;5;124;43m\"\u001b[39;49m\u001b[43m,\u001b[49m\n\u001b[1;32m     13\u001b[0m \u001b[43m)\u001b[49m\n",
      "\u001b[0;31mTypeError\u001b[0m: render_lightweight_chart() got an unexpected keyword argument 'ema_windows'"
     ]
    }
   ],
   "source": [
    "render_lightweight_chart(\n",
    "    df_2[\"SPY\"],\n",
    "    symbol=\"SPY\",\n",
    "    out_html=CHARTS_DIR/\"etf_basics_SPY.html\",\n",
    "    theme=\"dark\",\n",
    "    ma_windows=IND_MA_WINDOWS,  \n",
    "    ema_windows=IND_EMA_WINDOWS,          \n",
    "    rsi_period=IND_RSI_PERIOD,             \n",
    "    rsi_bounds=IND_RSI_BOUNDS,\n",
    "    timeframes=[\"1d\", \"1h\", \"15m\"],\n",
    "    default_tf=\"1d\",\n",
    "    watermark_text=\"SPY — {tf}\",\n",
    ")"
   ]
  },
  {
   "cell_type": "code",
   "execution_count": null,
   "id": "77b76baa",
   "metadata": {},
   "outputs": [
    {
     "name": "stdout",
     "output_type": "stream",
     "text": [
      "Index(['open', 'high', 'low', 'close', 'volume', 'trade_count', 'vwap',\n",
      "       'ema20', 'ma20', 'ma50', 'ma200', 'rsi14'],\n",
      "      dtype='object')\n"
     ]
    }
   ],
   "source": [
    "print(df_2[\"SPY\"].columns)"
   ]
  },
  {
   "cell_type": "code",
   "execution_count": null,
   "id": "6f30b06a",
   "metadata": {},
   "outputs": [],
   "source": [
    "# class PandasDataWithMAs(bt.feeds.PandasData):\n",
    "#     # add new indicator lines available as data.ma20, data.ma50\n",
    "#     lines = ('ma20', 'ma50',)\n",
    "#     # map by column name (expects columns 'ma20' and 'ma50' to exist in df)\n",
    "#     params = (\n",
    "#         ('ma20', -1),   # -1 tells Backtrader to pick the column with the same name\n",
    "#         ('ma50', -1),\n",
    "#     )\n",
    "\n",
    "# # Use it like:\n",
    "# df = minute_data_ma[\"SPY\"]  # already has ma20, ma50 from your DuckDB helper\n",
    "# datafeed = PandasDataWithMAs(dataname=df[['open','high','low','close','volume','ma20','ma50']])\n",
    "# cerebro = bt.Cerebro()\n",
    "# cerebro.adddata(datafeed)\n",
    "\n",
    "# class UsePrecomputed(bt.Strategy):\n",
    "#     def __init__(self):\n",
    "#         # now you can access self.data.ma20[0], self.data.ma50[0] in signals\n",
    "#         pass"
   ]
  }
 ],
 "metadata": {
  "kernelspec": {
   "display_name": "Python 3 (ipykernel)",
   "language": "python",
   "name": "python3"
  },
  "language_info": {
   "codemirror_mode": {
    "name": "ipython",
    "version": 3
   },
   "file_extension": ".py",
   "mimetype": "text/x-python",
   "name": "python",
   "nbconvert_exporter": "python",
   "pygments_lexer": "ipython3",
   "version": "3.9.13"
  }
 },
 "nbformat": 4,
 "nbformat_minor": 5
}
