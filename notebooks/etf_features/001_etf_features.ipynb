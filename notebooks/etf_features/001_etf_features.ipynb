{
 "cells": [
  {
   "cell_type": "code",
   "execution_count": 102,
   "id": "151b62e1",
   "metadata": {},
   "outputs": [],
   "source": [
    "%load_ext autoreload\n",
    "%autoreload 2"
   ]
  },
  {
   "cell_type": "markdown",
   "id": "2ae87100",
   "metadata": {},
   "source": [
    "# Quant ETF Features 📈\n",
    "This notebook shows how to develop features on ETF ohlcv data"
   ]
  },
  {
   "cell_type": "markdown",
   "id": "ed9cfecd",
   "metadata": {},
   "source": [
    "## 1. Setup"
   ]
  },
  {
   "cell_type": "code",
   "execution_count": 96,
   "id": "4882e559",
   "metadata": {},
   "outputs": [],
   "source": [
    "import os,sys\n",
    "import duckdb\n",
    "from pathlib import Path\n",
    "import pandas as pd\n",
    "import json"
   ]
  },
  {
   "cell_type": "code",
   "execution_count": 101,
   "id": "fb9836d7",
   "metadata": {},
   "outputs": [
    {
     "name": "stdout",
     "output_type": "stream",
     "text": [
      "Project Root: C:\\Users\\luyanda\\workspace\\QuantTrade\n"
     ]
    }
   ],
   "source": [
    "PROJECT_ROOT = Path.cwd().parents[0]\n",
    "\n",
    "if PROJECT_ROOT not in sys.path:\n",
    "    sys.path.append(PROJECT_ROOT)\n",
    "\n",
    "print(f\"Project Root: {PROJECT_ROOT}\")"
   ]
  },
  {
   "cell_type": "code",
   "execution_count": 106,
   "id": "2bb998c9",
   "metadata": {},
   "outputs": [],
   "source": [
    "from utils.charts import render_lightweight_chart"
   ]
  },
  {
   "cell_type": "code",
   "execution_count": 107,
   "id": "40dea664",
   "metadata": {},
   "outputs": [],
   "source": [
    "from utils.duck import to_bt_daily_duckdb, to_bt_minute_duckdb"
   ]
  },
  {
   "cell_type": "code",
   "execution_count": null,
   "id": "c97a36e7",
   "metadata": {},
   "outputs": [
    {
     "ename": "SyntaxError",
     "evalue": "invalid syntax (588680001.py, line 1)",
     "output_type": "error",
     "traceback": [
      "  \u001b[36mCell\u001b[39m\u001b[36m \u001b[39m\u001b[32mIn[108]\u001b[39m\u001b[32m, line 1\u001b[39m\n\u001b[31m    \u001b[39m\u001b[31mfrom utils.features add_mas_duckdb, add_rsi_duckdb\u001b[39m\n                        ^\n\u001b[31mSyntaxError\u001b[39m\u001b[31m:\u001b[39m invalid syntax\n"
     ]
    }
   ],
   "source": [
    "from utils.features import add_mas_duckdb, add_rsi_duckdb"
   ]
  },
  {
   "cell_type": "code",
   "execution_count": 45,
   "id": "d532e846",
   "metadata": {},
   "outputs": [
    {
     "name": "stdout",
     "output_type": "stream",
     "text": [
      "DB_DAILY: C:\\Users\\luyanda\\workspace\\QuantTrade\\data\\processed\\dolt\\stocks.duckdb\n",
      "📋 Tables: ['dividend', 'ohlcv', 'split', 'symbol']\n"
     ]
    }
   ],
   "source": [
    "DB_DAILY = PROJECT_ROOT / \"data\" / \"processed\" / \"dolt\" / \"stocks.duckdb\"\n",
    "print(f\"DB_DAILY: {DB_DAILY}\")\n",
    "con_daily = duckdb.connect(str(DB_DAILY))\n",
    "tables = [t[0] for t in con_daily.execute(\"SHOW TABLES\").fetchall()]\n",
    "print(\"📋 Tables:\", tables)"
   ]
  },
  {
   "cell_type": "code",
   "execution_count": 46,
   "id": "03225ed4",
   "metadata": {},
   "outputs": [
    {
     "name": "stdout",
     "output_type": "stream",
     "text": [
      "DB_MINUTE: C:\\Users\\luyanda\\workspace\\QuantTrade\\data\\processed\\alpaca\\price_minute_alpaca.duckdb\n",
      "📋 Tables: ['alpaca_minute']\n"
     ]
    }
   ],
   "source": [
    "DB_MINUTE = PROJECT_ROOT / \"data\" / \"processed\" / \"alpaca\" / \"price_minute_alpaca.duckdb\"\n",
    "print(f\"DB_MINUTE: {DB_MINUTE}\")\n",
    "con_minute = duckdb.connect(str(DB_MINUTE))\n",
    "tables = [t[0] for t in con_minute.execute(\"SHOW TABLES\").fetchall()]\n",
    "print(\"📋 Tables:\", tables)"
   ]
  },
  {
   "cell_type": "code",
   "execution_count": 47,
   "id": "0f9aae6b",
   "metadata": {},
   "outputs": [],
   "source": [
    "ETFS = [\"SPY\", \"QQQ\"]\n",
    "CHARTS_DIR = PROJECT_ROOT / \"charts\" "
   ]
  },
  {
   "cell_type": "markdown",
   "id": "a03fa05c",
   "metadata": {},
   "source": [
    "## 2. Helpers"
   ]
  },
  {
   "cell_type": "markdown",
   "id": "5ba3b920",
   "metadata": {},
   "source": [
    "## 3. Data Ingestion"
   ]
  },
  {
   "cell_type": "code",
   "execution_count": 51,
   "id": "07a45ad1",
   "metadata": {},
   "outputs": [
    {
     "name": "stdout",
     "output_type": "stream",
     "text": [
      "              open    high     low   close      volume\n",
      "datetime                                              \n",
      "2025-08-12  638.29  642.85  636.79  642.69  64821798.0\n",
      "              open    high     low   close      volume\n",
      "datetime                                              \n",
      "2025-08-12  575.16  580.35  572.49  580.05  42271441.0\n"
     ]
    }
   ],
   "source": [
    "# --- Ingest latest daily data ---\n",
    "daily_data = {\n",
    "    sym: to_bt_daily_duckdb(con_daily, sym, table=\"ohlcv\", date_col=\"date\", symbol_col=\"act_symbol\")\n",
    "    for sym in ETFS\n",
    "}\n",
    "\n",
    "for symbol in ETFS:\n",
    "    print(daily_data[symbol].tail(1))\n"
   ]
  },
  {
   "cell_type": "code",
   "execution_count": 52,
   "id": "e5160857",
   "metadata": {},
   "outputs": [
    {
     "name": "stdout",
     "output_type": "stream",
     "text": [
      "                       open    high     low   close  volume  trade_count  \\\n",
      "datetime                                                                   \n",
      "2025-08-13 14:36:00  644.34  644.34  644.34  644.34   100.0          1.0   \n",
      "\n",
      "                       vwap  \n",
      "datetime                     \n",
      "2025-08-13 14:36:00  644.34  \n",
      "                       open    high     low   close  volume  trade_count  \\\n",
      "datetime                                                                   \n",
      "2025-08-13 14:55:00  582.45  582.45  582.45  582.45   340.0          2.0   \n",
      "\n",
      "                       vwap  \n",
      "datetime                     \n",
      "2025-08-13 14:55:00  582.45  \n"
     ]
    }
   ],
   "source": [
    "# --- Ingest latest minute-level data ---\n",
    "minute_data = {sym: to_bt_minute_duckdb(con_minute, \"alpaca_minute\", sym) for sym in ETFS}\n",
    "\n",
    "for symbol in ETFS:\n",
    "    print(minute_data[symbol].tail(1))"
   ]
  },
  {
   "cell_type": "markdown",
   "id": "b5ce7ac3",
   "metadata": {},
   "source": [
    "## 4. Data Quality Checks\n",
    "\n",
    "U.S. Market (SPY, QQQ)\n",
    "Assuming regular NYSE/Nasdaq trading hours:\n",
    "\n",
    "| **Session**     | **Hours (ET)**   | **Duration** |\n",
    "| --------------- | ---------------- | ------------ |\n",
    "| Regular session | 09:30 – 16:00 ET | 6.5 hours    |\n",
    "|                 |                  | 390 minutes  |\n",
    "\n",
    "Expect around 390 rows per ETF"
   ]
  },
  {
   "cell_type": "code",
   "execution_count": 53,
   "id": "8596e1bd",
   "metadata": {},
   "outputs": [
    {
     "name": "stdout",
     "output_type": "stream",
     "text": [
      "\n",
      "🔍 SPY\n",
      "  • Rows: 192320\n",
      "  • Date Range: 2023-08-09 → 2025-08-13\n",
      "  • Timezone-aware: False\n",
      "  • Missing Intraday Dates: 22\n",
      "  • Partial Intraday Days (<390 rows): 279\n",
      "\n",
      "🔍 QQQ\n",
      "  • Rows: 187087\n",
      "  • Date Range: 2023-08-09 → 2025-08-13\n",
      "  • Timezone-aware: False\n",
      "  • Missing Intraday Dates: 22\n",
      "  • Partial Intraday Days (<390 rows): 306\n"
     ]
    }
   ],
   "source": [
    "for symbol in ETFS:\n",
    "    df = minute_data[symbol]\n",
    "    print(f\"\\n🔍 {symbol}\")\n",
    "    print(f\"  • Rows: {len(df)}\")\n",
    "    print(f\"  • Date Range: {df.index.min().date()} → {df.index.max().date()}\")\n",
    "    print(f\"  • Timezone-aware: {df.index.tz is not None}\")\n",
    "    # print(f\"  • Missing 'close': {df['close'].isna().sum()}\")\n",
    "\n",
    "    # --- Drop timezone if needed ---\n",
    "    df = df.copy()\n",
    "    if df.index.tz is not None:\n",
    "        df.index = df.index.tz_localize(None)\n",
    "\n",
    "    # --- Identify all available intraday dates ---\n",
    "    df[\"date\"] = df.index.normalize()\n",
    "    available_dates = df[\"date\"].unique()\n",
    "\n",
    "    # --- Construct full expected range (business days) ---\n",
    "    expected_dates = pd.date_range(\n",
    "        start=df.index.min().normalize(),\n",
    "        end=df.index.max().normalize(),\n",
    "        freq='B'\n",
    "    )\n",
    "\n",
    "    # --- Missing trading days entirely ---\n",
    "    missing_dates = sorted(set(expected_dates) - set(available_dates))\n",
    "    print(f\"  • Missing Intraday Dates: {len(missing_dates)}\")\n",
    "    # if missing_dates:\n",
    "    #     print(\"    Example:\", missing_dates[:5])\n",
    "\n",
    "    # --- Check for partial trading days (fewer than 390 rows) ---\n",
    "    counts = df.groupby(\"date\").size()\n",
    "    partial_days = counts[counts < 390]\n",
    "    print(f\"  • Partial Intraday Days (<390 rows): {len(partial_days)}\")\n",
    "    # if not partial_days.empty:\n",
    "    #     print(\"    Example:\", partial_days.head())\n"
   ]
  },
  {
   "cell_type": "markdown",
   "id": "d46e6d30",
   "metadata": {},
   "source": [
    "## 5. Feature Engineering"
   ]
  },
  {
   "cell_type": "code",
   "execution_count": null,
   "id": "1669c565",
   "metadata": {},
   "outputs": [],
   "source": [
    "# # Example: add 20/50/200 SMAs to your daily_data dict using the stocks connection\n",
    "minute_data_ma = add_mas_duckdb(minute_data, con_minute, windows=[20, 50,200], price_col=\"close\")\n",
    "print(minute_data_ma[\"SPY\"].tail(1))\n",
    "print(minute_data_ma[\"QQQ\"].tail(1))"
   ]
  },
  {
   "cell_type": "code",
   "execution_count": 62,
   "id": "c05b981a",
   "metadata": {},
   "outputs": [
    {
     "name": "stdout",
     "output_type": "stream",
     "text": [
      "                       open    high     low   close  volume  trade_count  \\\n",
      "datetime                                                                   \n",
      "2025-08-13 14:36:00  644.34  644.34  644.34  644.34   100.0          1.0   \n",
      "\n",
      "                       vwap      rsi14  \n",
      "datetime                                \n",
      "2025-08-13 14:36:00  644.34  82.116788  \n"
     ]
    }
   ],
   "source": [
    "# Minute\n",
    "minute_data_rsi = add_rsi_duckdb(minute_data, con_minute, period=14)\n",
    "print(minute_data_rsi[\"SPY\"].tail(1))"
   ]
  },
  {
   "cell_type": "code",
   "execution_count": 86,
   "id": "c254b90e",
   "metadata": {},
   "outputs": [
    {
     "data": {
      "text/plain": [
       "WindowsPath('C:/Users/luyanda/workspace/QuantTrade/charts/spy_rsi.html')"
      ]
     },
     "execution_count": 86,
     "metadata": {},
     "output_type": "execute_result"
    }
   ],
   "source": [
    "# Candles + Volume + MA lines + RSI pane (70/30 guides)\n",
    "render_lightweight_chart(\n",
    "    minute_data[\"SPY\"],\n",
    "    symbol=\"SPY\",\n",
    "    out_html=CHARTS_DIR/\"spy_rsi.html\",\n",
    "    # ma_windows=[20, 50, 200],  # optional; omit if you only want RSI\n",
    "    rsi_period=14, \n",
    "    rsi_bounds=(30, 70),\n",
    "    timeframes=[\"1m\",\"5m\",\"15m\",\"1h\",\"1d\"], \n",
    "    default_tf=\"5m\",\n",
    "    watermark_text=\"SPY — {tf}\",\n",
    ")"
   ]
  },
  {
   "cell_type": "code",
   "execution_count": null,
   "id": "96ee16be",
   "metadata": {},
   "outputs": [
    {
     "data": {
      "text/plain": [
       "WindowsPath('C:/Users/luyanda/workspace/QuantTrade/charts/spy_20ma50ma200ma.html')"
      ]
     },
     "execution_count": 80,
     "metadata": {},
     "output_type": "execute_result"
    }
   ],
   "source": [
    "render_lightweight_chart(\n",
    "    minute_data[\"SPY\"],\n",
    "    symbol=\"SPY\",\n",
    "    out_html=CHARTS_DIR/\"spy_20ma50ma200ma.html\",\n",
    "    ma_windows=[20, 50, 200],\n",
    "    rsi_period=None,            \n",
    "    rsi_bounds=None,\n",
    "    timeframes=[\"1m\",\"5m\",\"15m\",\"1h\",\"1d\"],\n",
    "    default_tf=\"5m\",\n",
    "    watermark_text=\"SPY — {tf}\",\n",
    "    watermark_opacity=0.07,\n",
    ")"
   ]
  }
 ],
 "metadata": {
  "kernelspec": {
   "display_name": "Python 3 (ipykernel)",
   "language": "python",
   "name": "python3"
  },
  "language_info": {
   "codemirror_mode": {
    "name": "ipython",
    "version": 3
   },
   "file_extension": ".py",
   "mimetype": "text/x-python",
   "name": "python",
   "nbconvert_exporter": "python",
   "pygments_lexer": "ipython3",
   "version": "3.11.8"
  }
 },
 "nbformat": 4,
 "nbformat_minor": 5
}
