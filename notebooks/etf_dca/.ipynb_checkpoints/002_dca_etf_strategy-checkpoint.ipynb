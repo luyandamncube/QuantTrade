{
 "cells": [
  {
   "cell_type": "markdown",
   "id": "ce4a1d4c",
   "metadata": {},
   "source": [
    "# Quant DCA ETF Strategy\n",
    "This notebook implements the SPY/QQQ DCA strategy with 200-day MA filtering."
   ]
  },
  {
   "cell_type": "code",
   "execution_count": null,
   "id": "76f2ab7a",
   "metadata": {},
   "outputs": [],
   "source": [
    "# 1. Setup\n",
    "import pandas as pd\n",
    "import numpy as np\n",
    "import matplotlib.pyplot as plt\n",
    "\n",
    "# Define strategy parameters\n",
    "START_DATE = \"2008-01-01\"\n",
    "END_DATE = \"2025-08-01\"\n",
    "ETFS = [\"SPY\", \"QQQ\", \"SPLV\", \"SHY\"]\n",
    "ALLOCATION_PER_MONTH = 500  # USD\n",
    "CORE_ALLOCATION = {\"SPY\": 0.5, \"QQQ\": 0.5}\n",
    "TREND_LOOKBACK = 200  # days for moving average filter\n"
   ]
  },
  {
   "cell_type": "code",
   "execution_count": null,
   "id": "30d36a88",
   "metadata": {},
   "outputs": [],
   "source": [
    "# 2. Data Ingestion\n",
    "# Generate synthetic data for development (random walk)\n",
    "\n",
    "np.random.seed(42)\n",
    "dates = pd.date_range(start=START_DATE, end=END_DATE, freq=\"B\")  # Business days\n",
    "price_data = pd.DataFrame(index=dates)\n",
    "\n",
    "# Simulate prices\n",
    "for symbol in ETFS:\n",
    "    steps = np.random.normal(loc=0.0002, scale=0.01, size=len(dates))\n",
    "    prices = 100 * np.exp(np.cumsum(steps))  # Start at $100\n",
    "    price_data[symbol] = prices\n",
    "\n",
    "price_data.tail()\n"
   ]
  }
 ],
 "metadata": {},
 "nbformat": 4,
 "nbformat_minor": 5
}