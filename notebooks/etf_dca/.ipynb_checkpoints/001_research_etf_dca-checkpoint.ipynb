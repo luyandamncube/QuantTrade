{
 "cells": [
  {
   "cell_type": "markdown",
   "metadata": {
    "pycharm": {
     "name": "#%% md\n"
    }
   },
   "source": [
    "![QuantConnect Logo](https://cdn.quantconnect.com/web/i/icon.png)\n",
    "<hr>"
   ]
  },
  {
   "cell_type": "markdown",
   "metadata": {},
   "source": [
    "# ETF Long-Term Buy & Hold Research Notebook\n",
    "\n",
    "## Purpose\n",
    "This notebook is designed to **evaluate the performance of self-directed ETF portfolios** (built with monthly contributions, or Dollar-Cost Averaging) compared to typical **managed index fund solutions** that charge annual fees (e.g., 0.5–1%).  \n",
    "The goal is to determine if a **DIY ETF strategy can outperform** fee-dragged benchmarks over a **long-term horizon (10–30 years)**.\n",
    "\n",
    "## What This Notebook Does\n",
    "1. **Fetches historical price data** for selected ETFs and benchmarks using Tiingo’s data.\n",
    "2. **Simulates monthly contributions (DCA)** into multiple user-defined portfolios.\n",
    "3. **Applies management fees** to the benchmark to simulate a typical investment firm’s drag.\n",
    "4. **Calculates key metrics** for each portfolio:\n",
    "   - CAGR (Compound Annual Growth Rate)\n",
    "   - Alpha (annualized) vs. benchmark\n",
    "   - Beta vs. benchmark\n",
    "   - Max Drawdown\n",
    "   - Final portfolio value vs. benchmark\n",
    "   - Fee savings (relative to managed fund)\n",
    "5. **Generates a summary table** comparing all tested portfolios.\n",
    "6. **Plots the growth curves** of all portfolios versus their benchmarks for visual comparison.\n",
    "\n",
    "## How to Use\n",
    "1. **Edit the `portfolios` dictionary** (below) to add your ETF portfolios.\n",
    "   - For each portfolio, specify:\n",
    "     - ETFs (tickers)\n",
    "     - Weights (allocation by percentage)\n",
    "     - Annual management fee (for benchmark drag)\n",
    "     - Benchmark ticker (e.g., `SPY`)\n",
    "2. **Run the notebook** – it will:\n",
    "   - Fetch the data automatically.\n",
    "   - Simulate monthly investments.\n",
    "   - Calculate performance metrics.\n",
    "   - Output a summary table.\n",
    "   - Plot portfolio vs. benchmark performance.\n",
    "3. **Optional:** Extend or export results:\n",
    "   - Export summary to CSV.\n",
    "   - Add more portfolios or test different contribution sizes.\n",
    "   - Modify DCA logic (e.g., invest quarterly or rebalance annually).\n",
    "\n",
    "## Notes\n",
    "- This research focuses on **long-term investment behavior** (not trading or high-frequency strategies).  \n",
    "- Results assume all distributions (dividends) are reinvested and no transaction costs (can be added later).  \n",
    "- You can extend this to **live deployment** by converting the DCA logic into a QuantConnect algorithm linked to Interactive Brokers (IBKR).\n",
    "\n",
    "---\n"
   ]
  },
  {
   "cell_type": "code",
   "execution_count": 1,
   "metadata": {},
   "outputs": [],
   "source": [
    "from datetime import datetime\n",
    "import numpy as np\n",
    "import pandas as pd\n",
    "import matplotlib.pyplot as plt\n",
    "import statsmodels.api as sm\n",
    "import sys, os\n",
    "import time\n",
    "\n",
    "# sys.path.append(os.path.abspath(os.path.join(os.getcwd(), \"../..\")))  # Go up 2 levels\n",
    "# from utils.data_fetch import get_price_data"
   ]
  },
  {
   "cell_type": "code",
   "execution_count": 8,
   "metadata": {},
   "outputs": [
    {
     "name": "stdout",
     "output_type": "stream",
     "text": [
      "Working directory: /Users/luyanda/workspace/QuantTrade/notebooks/etf_dca\n"
     ]
    },
    {
     "ename": "ModuleNotFoundError",
     "evalue": "No module named 'utils'",
     "output_type": "error",
     "traceback": [
      "\u001b[0;31m---------------------------------------------------------------------------\u001b[0m",
      "\u001b[0;31mModuleNotFoundError\u001b[0m                       Traceback (most recent call last)",
      "Cell \u001b[0;32mIn [8], line 2\u001b[0m\n\u001b[1;32m      1\u001b[0m \u001b[38;5;28mprint\u001b[39m(\u001b[38;5;124mf\u001b[39m\u001b[38;5;124m\"\u001b[39m\u001b[38;5;124mWorking directory: \u001b[39m\u001b[38;5;132;01m{\u001b[39;00mos\u001b[38;5;241m.\u001b[39mgetcwd()\u001b[38;5;132;01m}\u001b[39;00m\u001b[38;5;124m\"\u001b[39m)\n\u001b[0;32m----> 2\u001b[0m \u001b[38;5;28;01mfrom\u001b[39;00m \u001b[38;5;21;01mutils\u001b[39;00m\u001b[38;5;21;01m.\u001b[39;00m\u001b[38;5;21;01mdata_fetch\u001b[39;00m \u001b[38;5;28;01mimport\u001b[39;00m get_price_data\n",
      "\u001b[0;31mModuleNotFoundError\u001b[0m: No module named 'utils'"
     ]
    }
   ],
   "source": [
    "print(f\"Working directory: {os.getcwd()}\")\n",
    "from QuantTrade.utils.data_fetch import get_price_data"
   ]
  },
  {
   "cell_type": "code",
   "execution_count": null,
   "metadata": {},
   "outputs": [],
   "source": [
    "# CACHE_DIR = \"../../data/raw/tiingo\""
   ]
  },
  {
   "cell_type": "code",
   "execution_count": null,
   "metadata": {},
   "outputs": [],
   "source": [
    "# --- PARAMETERS ---\n",
    "etfs = [\"SPY\", \"VEA\", \"VWO\"]  # US, Developed, Emerging markets\n",
    "benchmark = \"SPY\"             # S&P 500 as benchmark\n",
    "monthly_contribution = 1000\n",
    "management_fee = 0.01       # Simulate 1% fee for managed fund"
   ]
  },
  {
   "cell_type": "code",
   "execution_count": null,
   "metadata": {},
   "outputs": [],
   "source": [
    "# Must use datetime objects for History\n",
    "start_date = datetime(2010, 1, 1)\n",
    "end_date = datetime(2025, 7, 1)"
   ]
  },
  {
   "cell_type": "code",
   "execution_count": null,
   "metadata": {},
   "outputs": [],
   "source": [
    "# --- Portfolio Configurations (Add as many as you want) ---\n",
    "portfolios = {\n",
    "    \"Balanced_80_20\": {\n",
    "        \"ETFs\": [\"SPY\", \"AGG\"],         # 80% US Equity, 20% Bonds\n",
    "        \"Weights\": [0.8, 0.2],\n",
    "        \"Fee\": 0.005,                   # Simulate 0.5% annual fee\n",
    "        \"Benchmark\": \"SPY\"\n",
    "    },\n",
    "    \"Growth_Global\": {\n",
    "        \"ETFs\": [\"SPY\", \"VEA\", \"VWO\"],  # US, Developed, Emerging\n",
    "        \"Weights\": [0.5, 0.3, 0.2],\n",
    "        \"Fee\": 0.01,                    # Simulate 1% annual fee\n",
    "        \"Benchmark\": \"SPY\"\n",
    "    },\n",
    "    \"Equity_Only\": {\n",
    "        \"ETFs\": [\"SPY\"],                # Simple buy & hold SPY\n",
    "        \"Weights\": [1.0],\n",
    "        \"Fee\": 0.002,                   # 0.2% fee (very low-cost index)\n",
    "        \"Benchmark\": \"SPY\"\n",
    "    }\n",
    "}\n"
   ]
  },
  {
   "cell_type": "code",
   "execution_count": null,
   "metadata": {},
   "outputs": [],
   "source": [
    "all_symbols = set()\n",
    "for config in portfolios.values():\n",
    "    all_symbols.update(config[\"ETFs\"])\n",
    "    all_symbols.add(config[\"Benchmark\"])\n",
    "print(all_symbols)"
   ]
  },
  {
   "cell_type": "code",
   "execution_count": null,
   "metadata": {},
   "outputs": [],
   "source": [
    "prices = get_price_data(all_symbols, start_date, end_date)"
   ]
  },
  {
   "cell_type": "code",
   "execution_count": null,
   "metadata": {},
   "outputs": [],
   "source": [
    "def simulate_dca_weighted(prices, weights, contribution):\n",
    "    \"\"\"\n",
    "    Simulates monthly Dollar-Cost Averaging (DCA) into a portfolio.\n",
    "\n",
    "    Args:\n",
    "        prices (pd.DataFrame): Price history for ETFs (columns = symbols).\n",
    "        weights (list): Portfolio weights for each ETF.\n",
    "        contribution (float): Monthly contribution amount.\n",
    "\n",
    "    Returns:\n",
    "        pd.Series: Portfolio value over time.\n",
    "    \"\"\"\n",
    "    weights = np.array(weights) / np.sum(weights)  # Normalize weights\n",
    "    portfolio_value = pd.Series(index=prices.index, dtype=float)\n",
    "    units_held = {sym: 0 for sym in prices.columns}\n",
    "    symbols = list(prices.columns)\n",
    "\n",
    "    for date in prices.index:\n",
    "        # Invest on the first trading day of each month\n",
    "        if date.day == 1:\n",
    "            for i, sym in enumerate(symbols):\n",
    "                invest_amount = contribution * weights[i]\n",
    "                units_held[sym] += invest_amount / prices.loc[date, sym]\n",
    "        # Calculate total portfolio value each day\n",
    "        total_value = sum(units_held[sym] * prices.loc[date, sym] for sym in symbols)\n",
    "        portfolio_value.loc[date] = total_value\n",
    "\n",
    "    return portfolio_value\n"
   ]
  },
  {
   "cell_type": "code",
   "execution_count": null,
   "metadata": {},
   "outputs": [],
   "source": [
    "portfolio = simulate_dca_weighted(prices[etfs], [1/len(etfs)]*len(etfs), monthly_contribution)"
   ]
  },
  {
   "cell_type": "code",
   "execution_count": null,
   "metadata": {},
   "outputs": [],
   "source": [
    "# --- SIMULATE MANAGED FUND (BENCHMARK + 1% Fee) ---\n",
    "# Simulate benchmark DCA with 100% weight in the benchmark ETF\n",
    "benchmark_portfolio = simulate_dca_weighted(\n",
    "    prices[[benchmark]],   # Pass as a DataFrame (single ETF)\n",
    "    [1.0],                 # 100% allocation\n",
    "    monthly_contribution\n",
    ")\n",
    "\n",
    "# Apply management fee drag to simulate a managed fund\n",
    "daily_fee_factor = (1 - management_fee) ** (1 / 252)  # Daily fee factor\n",
    "benchmark_portfolio_fee = benchmark_portfolio * np.cumprod(\n",
    "    [daily_fee_factor] * len(benchmark_portfolio)\n",
    ")"
   ]
  },
  {
   "cell_type": "code",
   "execution_count": null,
   "metadata": {},
   "outputs": [],
   "source": [
    "def analyze_performance(portfolio, benchmark):\n",
    "    df = pd.concat([portfolio, benchmark], axis=1).dropna()\n",
    "    df.columns = [\"strategy\", \"benchmark\"]\n",
    "\n",
    "    # Drop periods before first contribution (zero value)\n",
    "    df = df[df[\"strategy\"] > 0]\n",
    "\n",
    "    # Compute daily returns\n",
    "    returns = df[\"strategy\"].pct_change().dropna()\n",
    "    bench_returns = df[\"benchmark\"].pct_change().dropna()\n",
    "    df = pd.DataFrame({\"strategy\": returns, \"benchmark\": bench_returns}).dropna()\n",
    "\n",
    "    # Use the first valid date as the start for CAGR\n",
    "    start_val = portfolio[portfolio > 0].iloc[0]\n",
    "    end_val = portfolio.iloc[-1]\n",
    "    years = (portfolio.index[-1] - portfolio[portfolio > 0].index[0]).days / 365.25\n",
    "    cagr = (end_val / start_val) ** (1 / years) - 1\n",
    "\n",
    "    # Alpha/Beta regression\n",
    "    import statsmodels.api as sm\n",
    "    X = sm.add_constant(df[\"benchmark\"])\n",
    "    model = sm.OLS(df[\"strategy\"], X, missing=\"drop\").fit()\n",
    "    alpha, beta = model.params.const, model.params.benchmark\n",
    "\n",
    "    # Max Drawdown (after first investment only)\n",
    "    port_after_start = portfolio[portfolio > 0]\n",
    "    peak = port_after_start.cummax()\n",
    "    drawdown = (port_after_start / peak) - 1\n",
    "    max_dd = drawdown.min()\n",
    "\n",
    "    return {\n",
    "        \"CAGR\": cagr,\n",
    "        \"Alpha (Annualized)\": alpha * 252,\n",
    "        \"Beta\": beta,\n",
    "        \"Max Drawdown\": max_dd\n",
    "    }\n"
   ]
  },
  {
   "cell_type": "code",
   "execution_count": null,
   "metadata": {},
   "outputs": [],
   "source": [
    "# --- Run All Portfolios ---\n",
    "results = []\n",
    "for name, config in portfolios.items():\n",
    "    etf_prices = prices[config[\"ETFs\"]]\n",
    "    portfolio = simulate_dca_weighted(etf_prices, config[\"Weights\"], monthly_contribution)\n",
    "\n",
    "    # Benchmark + Fee Drag\n",
    "    benchmark_prices = prices[[config[\"Benchmark\"]]]\n",
    "    benchmark_portfolio = simulate_dca_weighted(benchmark_prices, [1], monthly_contribution)\n",
    "    daily_fee_factor = (1 - config[\"Fee\"]) ** (1/252)\n",
    "    benchmark_portfolio_fee = benchmark_portfolio * np.cumprod([daily_fee_factor] * len(benchmark_portfolio))\n",
    "\n",
    "    stats = analyze_performance(portfolio, benchmark_portfolio_fee)\n",
    "    results.append({\n",
    "        \"Portfolio\": name,\n",
    "        \"Final Value\": f\"${portfolio.iloc[-1]:,.0f}\",\n",
    "        \"Benchmark Value (Fee)\": f\"${benchmark_portfolio_fee.iloc[-1]:,.0f}\",\n",
    "        \"Fee Savings\": f\"${(portfolio.iloc[-1] - benchmark_portfolio_fee.iloc[-1]):,.0f}\",\n",
    "        \"CAGR\": f\"{stats['CAGR']:.2%}\",\n",
    "        \"Alpha (Annualized)\": f\"{stats['Alpha (Annualized)']:.2%}\",\n",
    "        \"Beta\": f\"{stats['Beta']:.2f}\",\n",
    "        \"Max Drawdown\": f\"{stats['Max Drawdown']:.2%}\"\n",
    "    })"
   ]
  },
  {
   "cell_type": "code",
   "execution_count": null,
   "metadata": {},
   "outputs": [],
   "source": [
    "# --- PLOT & SUMMARIZE EACH PORTFOLIO ---\n",
    "for name, config in portfolios.items():\n",
    "    # Re-simulate portfolio growth\n",
    "    etf_prices = prices[config[\"ETFs\"]]\n",
    "    portfolio = simulate_dca_weighted(etf_prices, config[\"Weights\"], monthly_contribution)\n",
    "\n",
    "    # Simulate benchmark with fee drag\n",
    "    benchmark_prices = prices[[config[\"Benchmark\"]]]\n",
    "    benchmark_portfolio = simulate_dca_weighted(benchmark_prices, [1], monthly_contribution)\n",
    "    daily_fee_factor = (1 - config[\"Fee\"]) ** (1 / 252)\n",
    "    benchmark_portfolio_fee = benchmark_portfolio * np.cumprod([daily_fee_factor] * len(benchmark_portfolio))\n",
    "\n",
    "    # Analyze performance stats for this portfolio\n",
    "    stats = analyze_performance(portfolio, benchmark_portfolio_fee)\n",
    "    final_portfolio_value = portfolio.iloc[-1]\n",
    "    final_benchmark_value = benchmark_portfolio_fee.iloc[-1]\n",
    "    fee_savings = final_portfolio_value - final_benchmark_value\n",
    "\n",
    "    # Create summary table (DataFrame)\n",
    "    summary = pd.DataFrame({\n",
    "        \"Metric\": [\n",
    "            \"Final Portfolio Value\",\n",
    "            \"Final Benchmark Value (Fee Adj.)\",\n",
    "            \"Fee Savings vs Benchmark\",\n",
    "            \"CAGR (Portfolio)\",\n",
    "            \"Alpha (Annualized)\",\n",
    "            \"Beta (vs Benchmark)\",\n",
    "            \"Max Drawdown\"\n",
    "        ],\n",
    "        \"Value\": [\n",
    "            f\"${final_portfolio_value:,.0f}\",\n",
    "            f\"${final_benchmark_value:,.0f}\",\n",
    "            f\"${fee_savings:,.0f}\",\n",
    "            f\"{stats['CAGR']:.2%}\",\n",
    "            f\"{stats['Alpha (Annualized)']:.2%}\",\n",
    "            f\"{stats['Beta']:.2f}\",\n",
    "            f\"{stats['Max Drawdown']:.2%}\"\n",
    "        ]\n",
    "    })\n",
    "\n",
    "    # Plot portfolio vs benchmark\n",
    "    plt.figure(figsize=(12, 6))\n",
    "    plt.plot(portfolio.index, portfolio, label=f\"{name} Portfolio\", linewidth=2)\n",
    "    plt.plot(benchmark_portfolio_fee.index, benchmark_portfolio_fee, linestyle=\"--\",\n",
    "             label=f\"{name} Benchmark (Fee Adj.)\", linewidth=2)\n",
    "\n",
    "    # Chart styling\n",
    "    plt.title(f\"{name}: Portfolio Growth vs Benchmark (DCA Contributions Included)\")\n",
    "    plt.xlabel(\"Date\")\n",
    "    plt.ylabel(\"Portfolio Value ($)\")\n",
    "    plt.grid(True, linestyle=\"--\", alpha=0.6)\n",
    "    plt.legend()\n",
    "    plt.tight_layout()\n",
    "    plt.show()\n",
    "\n",
    "    # Display summary table\n",
    "    display(summary)\n"
   ]
  },
  {
   "cell_type": "code",
   "execution_count": null,
   "metadata": {},
   "outputs": [],
   "source": [
    "# --- PLOT ALL PORTFOLIOS TOGETHER (NO BENCHMARKS) ---\n",
    "\n",
    "plt.figure(figsize=(14, 7))\n",
    "\n",
    "for name, config in portfolios.items():\n",
    "    # Simulate each portfolio's growth (ignoring benchmarks here)\n",
    "    etf_prices = prices[config[\"ETFs\"]]\n",
    "    portfolio = simulate_dca_weighted(etf_prices, config[\"Weights\"], monthly_contribution)\n",
    "\n",
    "    plt.plot(portfolio.index, portfolio, label=f\"{name} Portfolio\", linewidth=2)\n",
    "\n",
    "plt.title(\"Comparison of All Portfolio Growth (No Benchmarks)\")\n",
    "plt.xlabel(\"Date\")\n",
    "plt.ylabel(\"Portfolio Value ($)\")\n",
    "plt.grid(True, linestyle=\"--\", alpha=0.6)\n",
    "plt.legend()\n",
    "plt.tight_layout()\n",
    "plt.show()\n"
   ]
  },
  {
   "cell_type": "code",
   "execution_count": null,
   "metadata": {},
   "outputs": [],
   "source": [
    "def compute_metrics(portfolio_series):\n",
    "    \"\"\"Calculate CAGR, Max Drawdown, Volatility, and Sharpe Ratio for a portfolio.\"\"\"\n",
    "    # Ensure no zero values (for returns calc)\n",
    "    port = portfolio_series[portfolio_series > 0]\n",
    "    \n",
    "    # Daily returns\n",
    "    daily_returns = port.pct_change().dropna()\n",
    "    \n",
    "    # CAGR\n",
    "    years = (port.index[-1] - port.index[0]).days / 365.25\n",
    "    cagr = (port.iloc[-1] / port.iloc[0]) ** (1 / years) - 1\n",
    "    \n",
    "    # Max Drawdown\n",
    "    running_max = port.cummax()\n",
    "    drawdown = (port / running_max) - 1\n",
    "    max_drawdown = drawdown.min()\n",
    "    \n",
    "    # Volatility (Annualized)\n",
    "    vol_annual = daily_returns.std() * np.sqrt(252)\n",
    "    \n",
    "    # Sharpe Ratio (0% risk-free for simplicity)\n",
    "    sharpe = (daily_returns.mean() * 252) / vol_annual if vol_annual > 0 else np.nan\n",
    "    \n",
    "    return {\n",
    "        \"CAGR\": f\"{cagr:.2%}\",\n",
    "        \"Max Drawdown\": f\"{max_drawdown:.2%}\",\n",
    "        \"Annual Volatility\": f\"{vol_annual:.2%}\",\n",
    "        \"Sharpe Ratio\": f\"{sharpe:.2f}\"\n",
    "    }\n",
    "\n",
    "# Build a summary table for all portfolios\n",
    "metrics_summary = []\n",
    "\n",
    "for name, config in portfolios.items():\n",
    "    etf_prices = prices[config[\"ETFs\"]]\n",
    "    portfolio = simulate_dca_weighted(etf_prices, config[\"Weights\"], monthly_contribution)\n",
    "    metrics = compute_metrics(portfolio)\n",
    "    metrics[\"Portfolio\"] = name\n",
    "    metrics_summary.append(metrics)\n",
    "\n",
    "# Create DataFrame\n",
    "metrics_df = pd.DataFrame(metrics_summary).set_index(\"Portfolio\")\n",
    "display(metrics_df)\n"
   ]
  },
  {
   "cell_type": "code",
   "execution_count": null,
   "metadata": {},
   "outputs": [],
   "source": []
  }
 ],
 "metadata": {
  "kernelspec": {
   "display_name": "Python 3 (ipykernel)",
   "language": "python",
   "name": "python3"
  },
  "language_info": {
   "codemirror_mode": {
    "name": "ipython",
    "version": 3
   },
   "file_extension": ".py",
   "mimetype": "text/x-python",
   "name": "python",
   "nbconvert_exporter": "python",
   "pygments_lexer": "ipython3",
   "version": "3.9.13"
  }
 },
 "nbformat": 4,
 "nbformat_minor": 4
}
